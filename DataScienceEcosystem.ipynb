{
 "cells": [
  {
   "cell_type": "markdown",
   "id": "4463c9de",
   "metadata": {},
   "source": [
    "# Data Science Tools and Ecosystem"
   ]
  },
  {
   "cell_type": "markdown",
   "id": "03ddd83d",
   "metadata": {},
   "source": [
    "## In this notebook, Data Science Tools and Ecosystem are summarized\n",
    "\n",
    "### Objectives:\n",
    " * Learned to use various tools \n",
    "1) NumPy\n",
    "2) Pandas\n",
    "3) TensorFlow\n",
    "4) SciPy\n",
    "5) Matplotlib\n",
    "\n",
    "* Learned to use various languages like\n",
    "1) R\n",
    "2) Python"
   ]
  },
  {
   "cell_type": "markdown",
   "id": "54fdf3fe",
   "metadata": {},
   "source": [
    "### Some of then popular languages that Data Scientists use are:\n",
    "\n",
    "1) Python\n",
    "2) R\n",
    "3) SQL\n",
    "4) Julia\n",
    "5) Java"
   ]
  },
  {
   "cell_type": "markdown",
   "id": "0bc1ad6d",
   "metadata": {},
   "source": [
    "### Some of the commonly used libraries used by Data Scientists include:\n",
    "\n",
    "1) NumPy\n",
    "2) Pandas\n",
    "3) TensorFlow\n",
    "4) SciPy\n",
    "5) Matplotlib\n"
   ]
  },
  {
   "cell_type": "markdown",
   "id": "cdfe7ac2",
   "metadata": {},
   "source": [
    "| Data Science Tools  |\n",
    "| ------------------- |\n",
    "|   Jupyter Notebook  |\n",
    "|   Spyder        |\n",
    "|   Google Colaborstory |\n",
    "\n"
   ]
  },
  {
   "cell_type": "markdown",
   "id": "3b8a692f",
   "metadata": {},
   "source": [
    "### Below are a few examples of evaluating arithmetic expressions in Python\n",
    "2+3                 #Additon of two numbers  \n",
    "2-3                 #Subtraction of two Numbers  \n",
    "2*3                 #Multiplication of two numbers  \n",
    "2/3                 #Division of two numbers  \n",
    "\n",
    "x+y                 #Additon of two variables  \n",
    "x-y                 #Subtraction of two variables  \n",
    "x*y                 #Multiplication of two variable  \n",
    "x/y                 #Division of two variable  \n",
    "  \n",
    "2+3-1*6/3           #A Complex expression  "
   ]
  },
  {
   "cell_type": "code",
   "execution_count": 1,
   "id": "f4ac2905",
   "metadata": {},
   "outputs": [
    {
     "data": {
      "text/plain": [
       "17"
      ]
     },
     "execution_count": 1,
     "metadata": {},
     "output_type": "execute_result"
    }
   ],
   "source": [
    "(3*4)+5 #This is a simple arthemetic expression to multiply then add intergers"
   ]
  },
  {
   "cell_type": "code",
   "execution_count": 2,
   "id": "8d3063af",
   "metadata": {},
   "outputs": [
    {
     "name": "stdout",
     "output_type": "stream",
     "text": [
      "3.3333333333333335\n"
     ]
    }
   ],
   "source": [
    "#A code to convert 200 minutes into hours \n",
    "x = 200\n",
    "y = x/60\n",
    "print(y)"
   ]
  },
  {
   "cell_type": "markdown",
   "id": "ad84c08f",
   "metadata": {},
   "source": [
    "## Author\n",
    "Anu Tiwary"
   ]
  },
  {
   "cell_type": "code",
   "execution_count": null,
   "id": "6c7704f6",
   "metadata": {},
   "outputs": [],
   "source": []
  }
 ],
 "metadata": {
  "kernelspec": {
   "display_name": "Python 3 (ipykernel)",
   "language": "python",
   "name": "python3"
  },
  "language_info": {
   "codemirror_mode": {
    "name": "ipython",
    "version": 3
   },
   "file_extension": ".py",
   "mimetype": "text/x-python",
   "name": "python",
   "nbconvert_exporter": "python",
   "pygments_lexer": "ipython3",
   "version": "3.11.4"
  }
 },
 "nbformat": 4,
 "nbformat_minor": 5
}
